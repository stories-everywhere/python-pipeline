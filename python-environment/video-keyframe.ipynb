{
 "cells": [
  {
   "cell_type": "markdown",
   "id": "ce7121fb-1bf5-43f5-a450-9732cb60b978",
   "metadata": {},
   "source": [
    "1. Capturing a 2 seconds video using OpenCv\n",
    "2. Selecting each frame with the [waikato-datamining\\video-frame-processor](https://github.com/waikato-datamining/video-frame-processor) library"
   ]
  },
  {
   "cell_type": "code",
   "execution_count": 1,
   "id": "43dd7708-5cea-4562-a880-fa74af6e633d",
   "metadata": {},
   "outputs": [
    {
     "name": "stdout",
     "output_type": "stream",
     "text": [
      "Opening file: videos/output.mp4\n",
      "Info: {'fps': 20.0, 'width': 1280.0, 'height': 720.0, 'codec': 'FMP4', 'frame_count': 60.0, 'bitrate': 5640.0, 'pixel_format': 'I420'}\n"
     ]
    }
   ],
   "source": [
    "# to save video\n",
    "import numpy as np\n",
    "import cv2\n",
    "import time\n",
    "#to save the frames of the video\n",
    "from vfp import Processor\n",
    "from datetime import datetime\n",
    "\n",
    "\n",
    "# Saving a video of 2 seconds\n",
    "cam = cv2.VideoCapture(0)\n",
    "\n",
    "# Get the default frame width and height\n",
    "frame_width = int(cam.get(cv2.CAP_PROP_FRAME_WIDTH))\n",
    "frame_height = int(cam.get(cv2.CAP_PROP_FRAME_HEIGHT))\n",
    " \n",
    "# Define the codec and create VideoWriter object\n",
    "fourcc = cv2.VideoWriter_fourcc(*'mp4v')\n",
    "out = cv2.VideoWriter('videos/output.mp4', fourcc, 20.0, (frame_width, frame_height))\n",
    "\n",
    "# Start timing for total generation\n",
    "start_time = time.time_ns()\n",
    "\n",
    "while cam.isOpened():\n",
    "    ret, frame = cam.read()\n",
    "    if not ret:\n",
    "        print(\"Can't receive frame (stream end?). Exiting ...\")\n",
    "        break\n",
    "    frame = cv2.flip(frame, 0)\n",
    " \n",
    "    # write the flipped frame\n",
    "    out.write(frame)\n",
    " \n",
    "    # cv2.imshow('frame', frame)\n",
    "    if cv2.waitKey(1) == ord('q'):\n",
    "        break\n",
    "    current_time = time.time_ns()\n",
    "    \n",
    "    if current_time - start_time >= 2000000000:\n",
    "        break\n",
    " \n",
    "# Release everything if job is finished\n",
    "cam.release()\n",
    "out.release()\n",
    "cv2.destroyAllWindows()\n",
    "\n",
    "# extracting the frames from the video\n",
    "def save_frames(processor, frame, frame_no, pos_msec):\n",
    "    ts = datetime.utcfromtimestamp(pos_msec / 1000.0).time().strftime(\"%H%M%S.%f\")\n",
    "    cv2.imwrite(processor.params.output_dir + \"/\" + ts + \".jpg\", frame)\n",
    "\n",
    "p = Processor(nth_frame=10, max_frames=2000, process_frame=save_frames, verbose=True)\n",
    "p.params.output_dir = \"videos/keyframes\"   # used by the \"save_frames\" method \n",
    "p.process(video_file=\"videos/output.mp4\")\n"
   ]
  },
  {
   "cell_type": "code",
   "execution_count": null,
   "id": "a94c6024-6903-43d4-a9e2-bdd3c11713d4",
   "metadata": {},
   "outputs": [],
   "source": []
  }
 ],
 "metadata": {
  "kernelspec": {
   "display_name": "Python 3 (ipykernel)",
   "language": "python",
   "name": "python3"
  },
  "language_info": {
   "codemirror_mode": {
    "name": "ipython",
    "version": 3
   },
   "file_extension": ".py",
   "mimetype": "text/x-python",
   "name": "python",
   "nbconvert_exporter": "python",
   "pygments_lexer": "ipython3",
   "version": "3.11.6"
  }
 },
 "nbformat": 4,
 "nbformat_minor": 5
}
