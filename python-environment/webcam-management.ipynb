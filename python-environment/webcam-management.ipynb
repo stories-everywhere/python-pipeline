{
 "cells": [
  {
   "cell_type": "markdown",
   "id": "5b269e82-b25c-4466-9453-444048f431af",
   "metadata": {},
   "source": [
    "Modified from [Python OpenCV: Capture Video from Camera](https://www.geeksforgeeks.org/python-opencv-capture-video-from-camera/)"
   ]
  },
  {
   "cell_type": "code",
   "execution_count": 6,
   "id": "d9d091c8-fd7c-45ea-b46f-4063daba23c7",
   "metadata": {},
   "outputs": [],
   "source": [
    "import numpy as np\n",
    "import cv2\n",
    "import time\n",
    "\n",
    " \n",
    "cam = cv2.VideoCapture(0)\n",
    "\n",
    "# Get the default frame width and height\n",
    "frame_width = int(cam.get(cv2.CAP_PROP_FRAME_WIDTH))\n",
    "frame_height = int(cam.get(cv2.CAP_PROP_FRAME_HEIGHT))\n",
    " \n",
    "# Define the codec and create VideoWriter object\n",
    "fourcc = cv2.VideoWriter_fourcc(*'mp4v')\n",
    "out = cv2.VideoWriter('output.mp4', fourcc, 20.0, (frame_width, frame_height))\n",
    "\n",
    "# Start timing for total generation\n",
    "start_time = time.time_ns()\n",
    "\n",
    "while cam.isOpened():\n",
    "    ret, frame = cam.read()\n",
    "    if not ret:\n",
    "        print(\"Can't receive frame (stream end?). Exiting ...\")\n",
    "        break\n",
    "    frame = cv2.flip(frame, 0)\n",
    " \n",
    "    # write the flipped frame\n",
    "    out.write(frame)\n",
    " \n",
    "    # cv2.imshow('frame', frame)\n",
    "    if cv2.waitKey(1) == ord('q'):\n",
    "        break\n",
    "    current_time = time.time_ns()\n",
    "    \n",
    "    if current_time - start_time >= 1000000000:\n",
    "        break\n",
    " \n",
    "# Release everything if job is finished\n",
    "cam.release()\n",
    "out.release()\n",
    "cv2.destroyAllWindows()"
   ]
  },
  {
   "cell_type": "code",
   "execution_count": null,
   "id": "d4b4ecf6-bb44-4201-adb8-f2ec9cd5fc25",
   "metadata": {},
   "outputs": [],
   "source": []
  }
 ],
 "metadata": {
  "kernelspec": {
   "display_name": "Python 3 (ipykernel)",
   "language": "python",
   "name": "python3"
  },
  "language_info": {
   "codemirror_mode": {
    "name": "ipython",
    "version": 3
   },
   "file_extension": ".py",
   "mimetype": "text/x-python",
   "name": "python",
   "nbconvert_exporter": "python",
   "pygments_lexer": "ipython3",
   "version": "3.11.6"
  }
 },
 "nbformat": 4,
 "nbformat_minor": 5
}
